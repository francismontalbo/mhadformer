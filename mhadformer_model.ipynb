{
 "cells": [
  {
   "cell_type": "code",
   "execution_count": 1,
   "id": "7a1cfc8c",
   "metadata": {},
   "outputs": [],
   "source": [
    "import tensorflow as tf\n",
    "from tensorflow.keras import layers, models\n",
    "\n",
    "from utils.blocks.stemblock import StemBlock\n",
    "from utils.blocks.cefe import CeFEBlock\n",
    "from utils.blocks.emvit import EMViTBlock\n",
    "from utils.blocks.faces import FACeSBlock"
   ]
  },
  {
   "cell_type": "code",
   "execution_count": 2,
   "id": "4da211b1",
   "metadata": {},
   "outputs": [],
   "source": [
    "def create_mhadformer_model(num_classes=5, image_size=224):\n",
    "    inputs = layers.Input(shape=(image_size, image_size, 3), name=\"input_layer\")\n",
    "    \n",
    "    x = StemBlock(name=\"stem_block\")(inputs)\n",
    "    \n",
    "    x = EMViTBlock(num_blocks=1, \n",
    "                   projection_dim=16, \n",
    "                   strides=1, \n",
    "                   activation=\"swish\", \n",
    "                   dropout_rate=0.1, \n",
    "                   name=\"emvit_block1\")(x)\n",
    "    \n",
    "    x = CeFEBlock(filters=32, strides=1, activation=\"swish\", name=\"cefe_block1\")(x)\n",
    "    x = CeFEBlock(filters=64, strides=2, activation=\"swish\", name=\"cefe_block2\")(x)\n",
    "    \n",
    "    x = EMViTBlock(num_blocks=1, \n",
    "                   projection_dim=128, \n",
    "                   strides=1, \n",
    "                   activation=\"swish\", \n",
    "                   dropout_rate=0.1, \n",
    "                   name=\"emvit_block2\")(x)\n",
    "    \n",
    "    x = FACeSBlock(name=\"faces_block\")(x)\n",
    "    x = layers.Conv2D(filters=256, kernel_size=(1, 1), strides=(1, 1),\n",
    "                      padding=\"same\", name=\"final_conv\")(x)\n",
    "    x = layers.Activation(\"swish\", name=\"final_activation\")(x)\n",
    "    x = layers.BatchNormalization(name=\"final_bn\")(x)\n",
    "    \n",
    "    x = layers.GlobalAveragePooling2D(name=\"global_avg_pool\")(x)\n",
    "    x = layers.Dropout(0.5, name=\"final_dropout\")(x)\n",
    "    outputs = layers.Dense(num_classes, activation=\"softmax\", name=\"output_layer\")(x)\n",
    "    \n",
    "    model = models.Model(inputs=inputs, outputs=outputs, name=\"MHADFormer\")\n",
    "    return model"
   ]
  },
  {
   "cell_type": "code",
   "execution_count": 3,
   "id": "c310da5c",
   "metadata": {},
   "outputs": [
    {
     "name": "stdout",
     "output_type": "stream",
     "text": [
      "Model: \"MHADFormer\"\n",
      "_________________________________________________________________\n",
      " Layer (type)                Output Shape              Param #   \n",
      "=================================================================\n",
      " input_layer (InputLayer)    [(None, 224, 224, 3)]     0         \n",
      "                                                                 \n",
      " stem_block (StemBlock)      (None, 56, 56, 3)         162       \n",
      "                                                                 \n",
      " emvit_block1 (EMViTBlock)   (None, 28, 28, 16)        106928    \n",
      "                                                                 \n",
      " cefe_block1 (CeFEBlock)     (None, 28, 28, 32)        7376      \n",
      "                                                                 \n",
      " cefe_block2 (CeFEBlock)     (None, 14, 14, 64)        29088     \n",
      "                                                                 \n",
      " emvit_block2 (EMViTBlock)   (None, 7, 7, 128)         291524    \n",
      "                                                                 \n",
      " faces_block (FACeSBlock)    (None, 7, 7, 256)         627712    \n",
      "                                                                 \n",
      " final_conv (Conv2D)         (None, 7, 7, 256)         65792     \n",
      "                                                                 \n",
      " final_activation (Activatio  (None, 7, 7, 256)        0         \n",
      " n)                                                              \n",
      "                                                                 \n",
      " final_bn (BatchNormalizatio  (None, 7, 7, 256)        1024      \n",
      " n)                                                              \n",
      "                                                                 \n",
      " global_avg_pool (GlobalAver  (None, 256)              0         \n",
      " agePooling2D)                                                   \n",
      "                                                                 \n",
      " final_dropout (Dropout)     (None, 256)               0         \n",
      "                                                                 \n",
      " output_layer (Dense)        (None, 5)                 1285      \n",
      "                                                                 \n",
      "=================================================================\n",
      "Total params: 1,130,891\n",
      "Trainable params: 1,129,765\n",
      "Non-trainable params: 1,126\n",
      "_________________________________________________________________\n"
     ]
    }
   ],
   "source": [
    "model = create_mhadformer_model()\n",
    "model.summary()"
   ]
  },
  {
   "cell_type": "code",
   "execution_count": 4,
   "id": "2b274cc4",
   "metadata": {},
   "outputs": [
    {
     "name": "stdout",
     "output_type": "stream",
     "text": [
      "WARNING:tensorflow:From C:\\Users\\franc\\anaconda3\\envs\\replicate2\\lib\\site-packages\\tensorflow\\python\\ops\\nn_ops.py:5180: tensor_shape_from_node_def_name (from tensorflow.python.framework.graph_util_impl) is deprecated and will be removed in a future version.\n",
      "Instructions for updating:\n",
      "Use `tf.compat.v1.graph_util.tensor_shape_from_node_def_name`\n"
     ]
    }
   ],
   "source": [
    "from tensorflow.python.framework.convert_to_constants import convert_variables_to_constants_v2\n",
    "\n",
    "def get_model_flops(model, input_shape=(1, 224, 224, 3)):\n",
    "    \"\"\"\n",
    "    Computes the FLOPs of a Keras model.\n",
    "    \n",
    "    Args:\n",
    "        model: A tf.keras.Model instance.\n",
    "        input_shape: A tuple representing the input shape including batch dimension.\n",
    "    \n",
    "    Returns:\n",
    "        total_flops: Total number of FLOPs (as an integer).\n",
    "    \"\"\"\n",
    "    # Create a concrete function from the model.\n",
    "    concrete_func = tf.function(model).get_concrete_function(\n",
    "        tf.TensorSpec(input_shape, tf.float32)\n",
    "    )\n",
    "    \n",
    "    # Convert variables to constants\n",
    "    frozen_func = convert_variables_to_constants_v2(concrete_func)\n",
    "    graph_def = frozen_func.graph.as_graph_def()\n",
    "    \n",
    "    # Import the graph and run the profiler.\n",
    "    with tf.Graph().as_default() as graph:\n",
    "        tf.import_graph_def(graph_def, name=\"\")\n",
    "        run_meta = tf.compat.v1.RunMetadata()\n",
    "        opts = tf.compat.v1.profiler.ProfileOptionBuilder.float_operation()\n",
    "        flops_profile = tf.compat.v1.profiler.profile(\n",
    "            graph=graph, run_meta=run_meta, cmd='scope', options=opts)\n",
    "        \n",
    "        if flops_profile is not None:\n",
    "            return flops_profile.total_float_ops\n",
    "        else:\n",
    "            return 0\n",
    "\n",
    "flops = get_model_flops(model, input_shape=(1, 224, 224, 3))\n",
    "flops_giga = flops / 10**9"
   ]
  },
  {
   "cell_type": "code",
   "execution_count": 5,
   "id": "50e73891",
   "metadata": {},
   "outputs": [
    {
     "name": "stdout",
     "output_type": "stream",
     "text": [
      "Model: MHADFormer\n",
      "FLOPS: 0.26 GFLOPS\n",
      "Params: 1.13 M\n"
     ]
    }
   ],
   "source": [
    "params = model.count_params() / 10**6\n",
    "print(f\"Model: {model._name}\")\n",
    "print(\"FLOPS: {:.2f} GFLOPS\".format(flops_giga))\n",
    "print(\"Params: {:.2f} M\".format(params))"
   ]
  }
 ],
 "metadata": {
  "kernelspec": {
   "display_name": "replicate2",
   "language": "python",
   "name": "replicate2"
  },
  "language_info": {
   "codemirror_mode": {
    "name": "ipython",
    "version": 3
   },
   "file_extension": ".py",
   "mimetype": "text/x-python",
   "name": "python",
   "nbconvert_exporter": "python",
   "pygments_lexer": "ipython3",
   "version": "3.7.10"
  }
 },
 "nbformat": 4,
 "nbformat_minor": 5
}
